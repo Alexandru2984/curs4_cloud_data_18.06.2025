{
 "cells": [
  {
   "cell_type": "code",
   "execution_count": 2,
   "metadata": {},
   "outputs": [],
   "source": [
    "import requests\n",
    "from bs4 import BeautifulSoup"
   ]
  },
  {
   "cell_type": "code",
   "execution_count": 9,
   "metadata": {},
   "outputs": [],
   "source": [
    "url = \"https://www.cursbnr.ro/\"\n",
    "r = requests.get(url)\n",
    "soup = BeautifulSoup(r.text, \"html.parser\")"
   ]
  },
  {
   "cell_type": "code",
   "execution_count": 10,
   "metadata": {},
   "outputs": [
    {
     "name": "stderr",
     "output_type": "stream",
     "text": [
      "C:\\Users\\Micu\\AppData\\Local\\Temp\\ipykernel_17024\\3072649139.py:1: DeprecationWarning: The 'text' argument to find()-type methods is deprecated. Use 'string' instead.\n",
      "  line = soup.find(text=lambda t: \"1 EURO =\" in t)\n"
     ]
    }
   ],
   "source": [
    "line = soup.find(text=lambda t: \"1 EURO =\" in t)\n",
    "if not line:\n",
    "    raise RuntimeError(\"Nu am găsit cursul EURO pe pagina de start\")"
   ]
  },
  {
   "cell_type": "code",
   "execution_count": 11,
   "metadata": {},
   "outputs": [
    {
     "name": "stdout",
     "output_type": "stream",
     "text": [
      "Curs EURO azi: 5.0325 Lei\n"
     ]
    }
   ],
   "source": [
    "part = line.strip().split(\"1 EURO =\")[-1].split(\" Lei\")[0].strip()\n",
    "print(f\"Curs EURO azi: {part} Lei\")"
   ]
  }
 ],
 "metadata": {
  "kernelspec": {
   "display_name": "Python 3",
   "language": "python",
   "name": "python3"
  },
  "language_info": {
   "codemirror_mode": {
    "name": "ipython",
    "version": 3
   },
   "file_extension": ".py",
   "mimetype": "text/x-python",
   "name": "python",
   "nbconvert_exporter": "python",
   "pygments_lexer": "ipython3",
   "version": "3.13.3"
  }
 },
 "nbformat": 4,
 "nbformat_minor": 2
}
