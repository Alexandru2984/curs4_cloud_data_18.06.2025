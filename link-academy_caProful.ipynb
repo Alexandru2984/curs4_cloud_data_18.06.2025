{
 "cells": [
  {
   "cell_type": "code",
   "execution_count": 23,
   "metadata": {},
   "outputs": [],
   "source": [
    "from selenium import webdriver\n",
    "from selenium.webdriver.common.by import By\n",
    "from selenium.common.exceptions import NoSuchElementException, ElementNotInteractableException\n",
    "import time"
   ]
  },
  {
   "cell_type": "code",
   "execution_count": 3,
   "metadata": {},
   "outputs": [],
   "source": [
    "URL = \"https://www.link-academy.com/\"\n",
    "driver = webdriver.Chrome()\n",
    "driver.get(URL)"
   ]
  },
  {
   "cell_type": "code",
   "execution_count": 4,
   "metadata": {},
   "outputs": [],
   "source": [
    "COOKIE_BUTTON_ID = \"politikaOK\"\n",
    "cookie_button = driver.find_element(By.ID, COOKIE_BUTTON_ID)\n",
    "cookie_button.click()"
   ]
  },
  {
   "cell_type": "code",
   "execution_count": 8,
   "metadata": {},
   "outputs": [],
   "source": [
    "nav_bar = driver.find_element(By.CLASS_NAME, \"nav-collapse\")\n",
    "nav_bar_list_items = nav_bar.find_elements(By.TAG_NAME, \"li\")"
   ]
  },
  {
   "cell_type": "code",
   "execution_count": 9,
   "metadata": {},
   "outputs": [],
   "source": [
    "link_programe = nav_bar_list_items[1].find_element(By.TAG_NAME, \"a\")"
   ]
  },
  {
   "cell_type": "code",
   "execution_count": 11,
   "metadata": {},
   "outputs": [
    {
     "data": {
      "text/plain": [
       "'https://www.link-academy.com/de-ce-sa-alegeti-link-academy'"
      ]
     },
     "execution_count": 11,
     "metadata": {},
     "output_type": "execute_result"
    }
   ],
   "source": [
    "link_programe.get_attribute(\"href\")"
   ]
  },
  {
   "cell_type": "code",
   "execution_count": 13,
   "metadata": {},
   "outputs": [],
   "source": [
    "programe_XPATH = \"\"\"//*[@id=\"navLeft\"]/ul/li[2]/a\"\"\"\n",
    "FULL_XPATH = \"/html/body/div[1]/nav/div[3]/ul/li[2]/a\""
   ]
  },
  {
   "cell_type": "code",
   "execution_count": 16,
   "metadata": {},
   "outputs": [],
   "source": [
    "driver.find_element(By.XPATH, programe_XPATH).click()"
   ]
  },
  {
   "cell_type": "code",
   "execution_count": 22,
   "metadata": {},
   "outputs": [
    {
     "name": "stdout",
     "output_type": "stream",
     "text": [
      "Pop-up-ul nu a apărut, continuăm normal.\n"
     ]
    }
   ],
   "source": [
    "time.sleep(5)\n",
    "try:\n",
    "    driver.find_element(By.ID, \"zatvori\").click()\n",
    "    # Nu functioneaza mereu, doar cand apare pop-up-ul\n",
    "except (NoSuchElementException, ElementNotInteractableException):\n",
    "    print(\"Pop-up-ul nu a apărut, continuăm normal.\")"
   ]
  },
  {
   "cell_type": "code",
   "execution_count": 18,
   "metadata": {},
   "outputs": [],
   "source": [
    "python_path = \"\"\"//*[@id=\"sidebarNav\"]/div/div[2]/a[1]\"\"\"\n",
    "driver.find_element(By.XPATH, python_path).click()"
   ]
  },
  {
   "cell_type": "code",
   "execution_count": 19,
   "metadata": {},
   "outputs": [],
   "source": [
    "introduction_path = \"\"\"//*[@id=\"content\"]/table[1]/tbody/tr[2]/td[3]/a\"\"\"\n",
    "driver.find_element(By.XPATH, introduction_path).click()"
   ]
  }
 ],
 "metadata": {
  "kernelspec": {
   "display_name": "Python 3",
   "language": "python",
   "name": "python3"
  },
  "language_info": {
   "codemirror_mode": {
    "name": "ipython",
    "version": 3
   },
   "file_extension": ".py",
   "mimetype": "text/x-python",
   "name": "python",
   "nbconvert_exporter": "python",
   "pygments_lexer": "ipython3",
   "version": "3.13.3"
  }
 },
 "nbformat": 4,
 "nbformat_minor": 2
}
