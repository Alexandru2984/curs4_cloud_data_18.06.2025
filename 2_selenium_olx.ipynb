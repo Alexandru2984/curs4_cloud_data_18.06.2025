{
 "cells": [
  {
   "cell_type": "code",
   "execution_count": 23,
   "metadata": {},
   "outputs": [],
   "source": [
    "from selenium import webdriver\n",
    "from selenium.webdriver.common.by import By\n",
    "import time"
   ]
  },
  {
   "cell_type": "code",
   "execution_count": 24,
   "metadata": {},
   "outputs": [],
   "source": [
    "URL = \"https://olx.ro\""
   ]
  },
  {
   "cell_type": "code",
   "execution_count": 25,
   "metadata": {},
   "outputs": [],
   "source": [
    "driver = webdriver.Chrome()\n",
    "driver.get(URL)"
   ]
  },
  {
   "cell_type": "code",
   "execution_count": 26,
   "metadata": {},
   "outputs": [],
   "source": [
    "COOKIE_BUTTON_ID = \"onetrust-accept-btn-handler\"\n",
    "cookie_button = driver.find_element(By.ID, COOKIE_BUTTON_ID)\n",
    "cookie_button.click()"
   ]
  },
  {
   "cell_type": "code",
   "execution_count": 27,
   "metadata": {},
   "outputs": [],
   "source": [
    "SEARCH_ID = \"search\"\n",
    "input_field = driver.find_element(By.ID, SEARCH_ID)\n",
    "input_field.send_keys(\"Sosete ieftine\")\n",
    "# BUTTON_NAME = \"searchBtn\"\n",
    "# input_button = driver.find_element(By.NAME, BUTTON_NAME)\n",
    "# input_button.click()\n",
    "\n"
   ]
  },
  {
   "cell_type": "code",
   "execution_count": 29,
   "metadata": {},
   "outputs": [],
   "source": [
    "SEARCH_BUTTON_CLASS = \"css-13ywmov\"\n",
    "search_button = driver.find_elements(By.CLASS_NAME, SEARCH_BUTTON_CLASS)[0]\n",
    "search_button.click()"
   ]
  },
  {
   "cell_type": "code",
   "execution_count": 30,
   "metadata": {},
   "outputs": [
    {
     "data": {
      "text/plain": [
       "20"
      ]
     },
     "execution_count": 30,
     "metadata": {},
     "output_type": "execute_result"
    }
   ],
   "source": [
    "ITEM_LINK_CLASS = \"css-1tqlkj0\"\n",
    "result_items = driver.find_elements(By.CLASS_NAME, ITEM_LINK_CLASS)\n",
    "len(result_items)"
   ]
  },
  {
   "cell_type": "code",
   "execution_count": 33,
   "metadata": {},
   "outputs": [
    {
     "data": {
      "text/plain": [
       "['https://www.olx.ro/d/oferta/sosete-de-dama-ieftine-IDje2kr.html',\n",
       " 'https://www.olx.ro/d/oferta/sosete-de-dama-ieftine-IDje2kr.html',\n",
       " 'https://www.olx.ro/d/oferta/sosete-premium-nike-IDiXKVf.html',\n",
       " 'https://www.olx.ro/d/oferta/sosete-premium-nike-IDiXKVf.html',\n",
       " 'https://www.olx.ro/d/oferta/tsg-sosete-tsg-trailz-dh-2-0-large-mtb-pantalon-lung-enduro-dh-IDfMHRH.html',\n",
       " 'https://www.olx.ro/d/oferta/tsg-sosete-tsg-trailz-dh-2-0-large-mtb-pantalon-lung-enduro-dh-IDfMHRH.html',\n",
       " 'https://www.olx.ro/d/oferta/cd-uri-audio-originale-romanesti-si-straine-IDbzG0M.html',\n",
       " 'https://www.olx.ro/d/oferta/cd-uri-audio-originale-romanesti-si-straine-IDbzG0M.html',\n",
       " 'https://www.olx.ro/d/oferta/lot-2-perechi-sosete-calitate-superioara-groase-bumbac-ambisex-IDin9Vr.html',\n",
       " 'https://www.olx.ro/d/oferta/lot-2-perechi-sosete-calitate-superioara-groase-bumbac-ambisex-IDin9Vr.html',\n",
       " 'https://www.olx.ro/d/oferta/rsp-tricou-mtb-large-IDfRfWr.html',\n",
       " 'https://www.olx.ro/d/oferta/rsp-tricou-mtb-large-IDfRfWr.html',\n",
       " 'https://www.olx.ro/d/oferta/set-unisex-basic-bebelusi-6-9-luni-bumbac-plin-next-nou-IDjfODW.html',\n",
       " 'https://www.olx.ro/d/oferta/set-unisex-basic-bebelusi-6-9-luni-bumbac-plin-next-nou-IDjfODW.html',\n",
       " 'https://www.olx.ro/d/oferta/ghete-piele-bocanci-barbati-lumberjack-stare-foarte-buna-m-42-1-2-43-IDhrEFY.html',\n",
       " 'https://www.olx.ro/d/oferta/ghete-piele-bocanci-barbati-lumberjack-stare-foarte-buna-m-42-1-2-43-IDhrEFY.html',\n",
       " 'https://www.olx.ro/d/oferta/vand-papuci-guess-originali-IDjsWln.html',\n",
       " 'https://www.olx.ro/d/oferta/vand-papuci-guess-originali-IDjsWln.html',\n",
       " 'https://www.olx.ro/d/oferta/papuci-barbati-de-interior-din-piele-de-bivolita-si-lana-merinos-IDgUfte.html',\n",
       " 'https://www.olx.ro/d/oferta/papuci-barbati-de-interior-din-piele-de-bivolita-si-lana-merinos-IDgUfte.html']"
      ]
     },
     "execution_count": 33,
     "metadata": {},
     "output_type": "execute_result"
    }
   ],
   "source": [
    "links = list([el.get_attribute('href') for el in result_items])\n",
    "links"
   ]
  },
  {
   "cell_type": "code",
   "execution_count": 35,
   "metadata": {},
   "outputs": [],
   "source": [
    "driver.get(\"https://www.olx.ro/d/oferta/audi-a5-quattro-190cp-full-1-proprietar-IDjx0KL.html\")"
   ]
  },
  {
   "cell_type": "code",
   "execution_count": 40,
   "metadata": {},
   "outputs": [],
   "source": [
    "button = driver.find_element(By.CLASS_NAME, \"css-118x51\")\n",
    "button.click()"
   ]
  },
  {
   "cell_type": "code",
   "execution_count": 41,
   "metadata": {},
   "outputs": [
    {
     "data": {
      "text/plain": [
       "'077 050 0604'"
      ]
     },
     "execution_count": 41,
     "metadata": {},
     "output_type": "execute_result"
    }
   ],
   "source": [
    "driver.find_element(By.CLASS_NAME, \"css-1478ixo\").text"
   ]
  },
  {
   "cell_type": "code",
   "execution_count": null,
   "metadata": {},
   "outputs": [],
   "source": [
    "driver.quit()"
   ]
  }
 ],
 "metadata": {
  "kernelspec": {
   "display_name": "Python 3",
   "language": "python",
   "name": "python3"
  },
  "language_info": {
   "codemirror_mode": {
    "name": "ipython",
    "version": 3
   },
   "file_extension": ".py",
   "mimetype": "text/x-python",
   "name": "python",
   "nbconvert_exporter": "python",
   "pygments_lexer": "ipython3",
   "version": "3.13.3"
  }
 },
 "nbformat": 4,
 "nbformat_minor": 2
}
