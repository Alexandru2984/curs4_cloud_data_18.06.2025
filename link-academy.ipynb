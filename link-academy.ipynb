{
 "cells": [
  {
   "cell_type": "code",
   "execution_count": 24,
   "metadata": {},
   "outputs": [],
   "source": [
    "from selenium import webdriver\n",
    "from selenium.webdriver.common.by import By\n",
    "from selenium.webdriver.support.ui import WebDriverWait\n",
    "from selenium.webdriver.support import expected_conditions as EC"
   ]
  },
  {
   "cell_type": "code",
   "execution_count": 2,
   "metadata": {},
   "outputs": [],
   "source": [
    "driver = webdriver.Chrome()\n",
    "driver.get(\"https://www.link-academy.com\")"
   ]
  },
  {
   "cell_type": "code",
   "execution_count": 3,
   "metadata": {},
   "outputs": [],
   "source": [
    "COOKIE_BUTTON_ID = \"politikaOK\"\n",
    "cookie_button = driver.find_element(By.ID, COOKIE_BUTTON_ID)\n",
    "cookie_button.click()"
   ]
  },
  {
   "cell_type": "code",
   "execution_count": 8,
   "metadata": {},
   "outputs": [],
   "source": [
    "link = driver.find_element(By.XPATH, \"//a[contains(@href, '/cursuri-de-specializare-in-domeniul-it')]\")\n",
    "link\n",
    "link.click()"
   ]
  },
  {
   "cell_type": "code",
   "execution_count": 30,
   "metadata": {},
   "outputs": [],
   "source": [
    "element = driver.find_element(By.XPATH, \"//a[contains(@href, '/python-development-program')]\")\n",
    "element.text\n",
    "# wait = WebDriverWait(driver, 10)\n",
    "# link_curs_python = wait.until(EC.element_to_be_clickable((By.XPATH, \"//a[contains(@href, '/python-development-program')]\")))\n",
    "# link_curs_python.click()\n",
    "wait = WebDriverWait(driver, 10)\n",
    "element = wait.until(EC.presence_of_element_located((By.XPATH, \"//a[contains(@href, '/python-development-program')]\")))\n",
    "\n",
    "driver.execute_script(\"arguments[0].click();\", element)"
   ]
  },
  {
   "cell_type": "code",
   "execution_count": 31,
   "metadata": {},
   "outputs": [],
   "source": [
    "link_intro = driver.find_element(By.XPATH, \"//a[contains(@href, 'link-academy.com/cursul-python-and-programming-fundamentals')]\")\n",
    "link_intro.click()"
   ]
  }
 ],
 "metadata": {
  "kernelspec": {
   "display_name": "Python 3",
   "language": "python",
   "name": "python3"
  },
  "language_info": {
   "codemirror_mode": {
    "name": "ipython",
    "version": 3
   },
   "file_extension": ".py",
   "mimetype": "text/x-python",
   "name": "python",
   "nbconvert_exporter": "python",
   "pygments_lexer": "ipython3",
   "version": "3.13.3"
  }
 },
 "nbformat": 4,
 "nbformat_minor": 2
}
